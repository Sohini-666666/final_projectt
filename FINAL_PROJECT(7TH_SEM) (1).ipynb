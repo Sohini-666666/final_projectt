{
  "nbformat": 4,
  "nbformat_minor": 0,
  "metadata": {
    "kernelspec": {
      "display_name": "Python 3",
      "language": "python",
      "name": "python3"
    },
    "language_info": {
      "codemirror_mode": {
        "name": "ipython",
        "version": 3
      },
      "file_extension": ".py",
      "mimetype": "text/x-python",
      "name": "python",
      "nbconvert_exporter": "python",
      "pygments_lexer": "ipython3",
      "version": "3.6.8"
    },
    "colab": {
      "name": "FINAL_PROJECT(7TH SEM).ipynb",
      "provenance": []
    }
  },
  "cells": [
    {
      "cell_type": "code",
      "metadata": {
        "_cell_guid": "b1076dfc-b9ad-4769-8c92-a6c4dae69d19",
        "_uuid": "8f2839f25d086af736a60e9eeb907d3b93b6e0e5",
        "colab": {
          "base_uri": "https://localhost:8080/",
          "height": 52
        },
        "id": "ruBgNVcXTkx7",
        "outputId": "37b2ae80-29ab-4e38-d549-eb45ab09e78f"
      },
      "source": [
        "# This Python 3 environment comes with many helpful analytics libraries installed\n",
        "# It is defined by the kaggle/python Docker image: https://github.com/kaggle/docker-python\n",
        "# For example, here's several helpful packages to load\n",
        "\n",
        "import numpy as np # linear algebra\n",
        "import pandas as pd # data processing, CSV file I/O (e.g. pd.read_csv)\n",
        "\n",
        "# Input data files are available in the read-only \"../input/\" directory\n",
        "# For example, running this (by clicking run or pressing Shift+Enter) will list all files under the input directory\n",
        "\n",
        "'''import os\n",
        "for dirname, _, filenames in os.walk('/kaggle/input'):\n",
        "    for filename in filenames:\n",
        "        print(os.path.join(dirname, filename))'''\n",
        "\n",
        "# You can write up to 5GB to the current directory (/kaggle/working/) that gets preserved as output when you create a version using \"Save & Run All\" \n",
        "# You can also write temporary files to /kaggle/temp/, but they won't be saved outside of the current session"
      ],
      "execution_count": null,
      "outputs": [
        {
          "output_type": "execute_result",
          "data": {
            "application/vnd.google.colaboratory.intrinsic+json": {
              "type": "string"
            },
            "text/plain": [
              "\"import os\\nfor dirname, _, filenames in os.walk('/kaggle/input'):\\n    for filename in filenames:\\n        print(os.path.join(dirname, filename))\""
            ]
          },
          "metadata": {
            "tags": []
          },
          "execution_count": 1
        }
      ]
    },
    {
      "cell_type": "code",
      "metadata": {
        "id": "Xm-KwQsjTkx9"
      },
      "source": [
        ""
      ],
      "execution_count": null,
      "outputs": []
    },
    {
      "cell_type": "code",
      "metadata": {
        "id": "UNw2kR13Tkx_"
      },
      "source": [
        ""
      ],
      "execution_count": null,
      "outputs": []
    },
    {
      "cell_type": "code",
      "metadata": {
        "id": "dQyb8ncjTkx_"
      },
      "source": [
        ""
      ],
      "execution_count": null,
      "outputs": []
    },
    {
      "cell_type": "code",
      "metadata": {
        "_cell_guid": "79c7e3d0-c299-4dcb-8224-4455121ee9b0",
        "_uuid": "d629ff2d2480ee46fbb7e2d37f6b5fab8052498a",
        "id": "rwfYBhRLTkyA"
      },
      "source": [
        "import pandas as pd\n",
        "import tensorflow as tf\n",
        "from keras.models import Sequential\n",
        "from keras.layers import Embedding,LSTM,Dense,Dropout\n",
        "from keras.preprocessing.text import Tokenizer\n",
        "from keras.initializers import Constant\n",
        "from keras.optimizers import Adam\n",
        "from matplotlib import pyplot "
      ],
      "execution_count": null,
      "outputs": []
    },
    {
      "cell_type": "code",
      "metadata": {
        "colab": {
          "base_uri": "https://localhost:8080/",
          "height": 246
        },
        "id": "w855fQAgTkyB",
        "outputId": "521a1140-0ea4-4c40-9735-88d96133b53d"
      },
      "source": [
        "data=pd.read_excel(\"/content/8th sem project Ekta diksha.xlsx\")\n",
        "data.head()"
      ],
      "execution_count": null,
      "outputs": [
        {
          "output_type": "execute_result",
          "data": {
            "text/html": [
              "<div>\n",
              "<style scoped>\n",
              "    .dataframe tbody tr th:only-of-type {\n",
              "        vertical-align: middle;\n",
              "    }\n",
              "\n",
              "    .dataframe tbody tr th {\n",
              "        vertical-align: top;\n",
              "    }\n",
              "\n",
              "    .dataframe thead th {\n",
              "        text-align: right;\n",
              "    }\n",
              "</style>\n",
              "<table border=\"1\" class=\"dataframe\">\n",
              "  <thead>\n",
              "    <tr style=\"text-align: right;\">\n",
              "      <th></th>\n",
              "      <th>Query</th>\n",
              "      <th>NLP</th>\n",
              "      <th>ML</th>\n",
              "      <th>IOT</th>\n",
              "      <th>Robotics</th>\n",
              "      <th>Web Developments</th>\n",
              "      <th>Operating System</th>\n",
              "      <th>Cloud Computing</th>\n",
              "      <th>Cyber Security</th>\n",
              "      <th>Software Engineering</th>\n",
              "      <th>Salesforce</th>\n",
              "    </tr>\n",
              "  </thead>\n",
              "  <tbody>\n",
              "    <tr>\n",
              "      <th>0</th>\n",
              "      <td>information retrieval in natural language proc...</td>\n",
              "      <td>1</td>\n",
              "      <td>0</td>\n",
              "      <td>0</td>\n",
              "      <td>0</td>\n",
              "      <td>0</td>\n",
              "      <td>0</td>\n",
              "      <td>0</td>\n",
              "      <td>0</td>\n",
              "      <td>0</td>\n",
              "      <td>0</td>\n",
              "    </tr>\n",
              "    <tr>\n",
              "      <th>1</th>\n",
              "      <td>information retrieval</td>\n",
              "      <td>1</td>\n",
              "      <td>0</td>\n",
              "      <td>0</td>\n",
              "      <td>0</td>\n",
              "      <td>0</td>\n",
              "      <td>0</td>\n",
              "      <td>0</td>\n",
              "      <td>0</td>\n",
              "      <td>0</td>\n",
              "      <td>0</td>\n",
              "    </tr>\n",
              "    <tr>\n",
              "      <th>2</th>\n",
              "      <td>information retrieval systems</td>\n",
              "      <td>1</td>\n",
              "      <td>0</td>\n",
              "      <td>0</td>\n",
              "      <td>0</td>\n",
              "      <td>0</td>\n",
              "      <td>0</td>\n",
              "      <td>0</td>\n",
              "      <td>0</td>\n",
              "      <td>0</td>\n",
              "      <td>0</td>\n",
              "    </tr>\n",
              "    <tr>\n",
              "      <th>3</th>\n",
              "      <td>information  retrieval and ranking</td>\n",
              "      <td>1</td>\n",
              "      <td>0</td>\n",
              "      <td>0</td>\n",
              "      <td>0</td>\n",
              "      <td>0</td>\n",
              "      <td>0</td>\n",
              "      <td>0</td>\n",
              "      <td>0</td>\n",
              "      <td>0</td>\n",
              "      <td>0</td>\n",
              "    </tr>\n",
              "    <tr>\n",
              "      <th>4</th>\n",
              "      <td>information retrieval using machine learning</td>\n",
              "      <td>1</td>\n",
              "      <td>1</td>\n",
              "      <td>0</td>\n",
              "      <td>0</td>\n",
              "      <td>0</td>\n",
              "      <td>0</td>\n",
              "      <td>0</td>\n",
              "      <td>0</td>\n",
              "      <td>0</td>\n",
              "      <td>0</td>\n",
              "    </tr>\n",
              "  </tbody>\n",
              "</table>\n",
              "</div>"
            ],
            "text/plain": [
              "                                               Query  ...  Salesforce\n",
              "0  information retrieval in natural language proc...  ...           0\n",
              "1                             information retrieval   ...           0\n",
              "2                      information retrieval systems  ...           0\n",
              "3                 information  retrieval and ranking  ...           0\n",
              "4       information retrieval using machine learning  ...           0\n",
              "\n",
              "[5 rows x 11 columns]"
            ]
          },
          "metadata": {
            "tags": []
          },
          "execution_count": 3
        }
      ]
    },
    {
      "cell_type": "code",
      "metadata": {
        "colab": {
          "base_uri": "https://localhost:8080/"
        },
        "id": "1G9btd0ETkyB",
        "outputId": "09f8c53f-4be7-41ce-9f76-f235ced05673"
      },
      "source": [
        "x=data['Query']\n",
        "y=data.drop('Query',axis=1)\n",
        "print(x.shape)\n",
        "print(y.shape)"
      ],
      "execution_count": null,
      "outputs": [
        {
          "output_type": "stream",
          "text": [
            "(246,)\n",
            "(246, 10)\n"
          ],
          "name": "stdout"
        }
      ]
    },
    {
      "cell_type": "code",
      "metadata": {
        "colab": {
          "base_uri": "https://localhost:8080/"
        },
        "id": "4U7OOeGXTkyC",
        "outputId": "e038ab03-e4c1-465a-e566-502f9795c926"
      },
      "source": [
        "max_words=2000\n",
        "t=Tokenizer(num_words=max_words)\n",
        "t.fit_on_texts(x)\n",
        "x_sequences=t.texts_to_sequences(x)\n",
        "x_sequences[0]"
      ],
      "execution_count": null,
      "outputs": [
        {
          "output_type": "execute_result",
          "data": {
            "text/plain": [
              "[2, 3, 1, 16, 17, 10]"
            ]
          },
          "metadata": {
            "tags": []
          },
          "execution_count": 5
        }
      ]
    },
    {
      "cell_type": "code",
      "metadata": {
        "colab": {
          "base_uri": "https://localhost:8080/"
        },
        "id": "7R0o4FLcTkyC",
        "outputId": "4f4d40a7-98a4-41a9-8ec5-db5deec5cc58"
      },
      "source": [
        "max_length=10\n",
        "from keras.preprocessing.sequence import pad_sequences\n",
        "x_pad=pad_sequences(\n",
        "    x_sequences,maxlen=max_length, padding=\"post\", truncating=\"post\"\n",
        "    )\n",
        "print(x_pad[0])"
      ],
      "execution_count": null,
      "outputs": [
        {
          "output_type": "stream",
          "text": [
            "[ 2  3  1 16 17 10  0  0  0  0]\n"
          ],
          "name": "stdout"
        }
      ]
    },
    {
      "cell_type": "code",
      "metadata": {
        "colab": {
          "base_uri": "https://localhost:8080/"
        },
        "id": "7kAk_NThTkyD",
        "outputId": "d3f225b4-43a1-40cc-e09a-348bc8605711"
      },
      "source": [
        "model=Sequential()\n",
        "\n",
        "model.add(Embedding(max_words,10,input_length=max_length))\n",
        "model.add(LSTM(units=10,dropout=0.2))\n",
        "model.add(Dense(10,activation=\"sigmoid\"))\n",
        "model.compile(loss='binary_crossentropy',optimizer=\"adam\",metrics=[\"accuracy\",\"Precision\",\"Recall\"])\n",
        "model.summary()"
      ],
      "execution_count": null,
      "outputs": [
        {
          "output_type": "stream",
          "text": [
            "Model: \"sequential\"\n",
            "_________________________________________________________________\n",
            "Layer (type)                 Output Shape              Param #   \n",
            "=================================================================\n",
            "embedding (Embedding)        (None, 10, 10)            20000     \n",
            "_________________________________________________________________\n",
            "lstm (LSTM)                  (None, 10)                840       \n",
            "_________________________________________________________________\n",
            "dense (Dense)                (None, 10)                110       \n",
            "=================================================================\n",
            "Total params: 20,950\n",
            "Trainable params: 20,950\n",
            "Non-trainable params: 0\n",
            "_________________________________________________________________\n"
          ],
          "name": "stdout"
        }
      ]
    },
    {
      "cell_type": "code",
      "metadata": {
        "colab": {
          "base_uri": "https://localhost:8080/"
        },
        "id": "I8-y6PEYTkyE",
        "outputId": "3521e16c-9073-458a-b724-041c22da71e6"
      },
      "source": [
        "history=model.fit(x_pad,y,epochs=10)"
      ],
      "execution_count": null,
      "outputs": [
        {
          "output_type": "stream",
          "text": [
            "Epoch 1/10\n",
            "8/8 [==============================] - 3s 6ms/step - loss: 0.6924 - accuracy: 0.0998 - precision: 0.0892 - recall: 0.2658\n",
            "Epoch 2/10\n",
            "8/8 [==============================] - 0s 5ms/step - loss: 0.6821 - accuracy: 0.1251 - precision: 0.1920 - recall: 0.1242\n",
            "Epoch 3/10\n",
            "8/8 [==============================] - 0s 5ms/step - loss: 0.6704 - accuracy: 0.1786 - precision: 0.2558 - recall: 0.3019\n",
            "Epoch 4/10\n",
            "8/8 [==============================] - 0s 5ms/step - loss: 0.6561 - accuracy: 0.1978 - precision: 0.2552 - recall: 0.3508\n",
            "Epoch 5/10\n",
            "8/8 [==============================] - 0s 5ms/step - loss: 0.6382 - accuracy: 0.2207 - precision: 0.2488 - recall: 0.3705\n",
            "Epoch 6/10\n",
            "8/8 [==============================] - 0s 5ms/step - loss: 0.6133 - accuracy: 0.2378 - precision: 0.2574 - recall: 0.3955\n",
            "Epoch 7/10\n",
            "8/8 [==============================] - 0s 5ms/step - loss: 0.5812 - accuracy: 0.1676 - precision: 0.2363 - recall: 0.3709\n",
            "Epoch 8/10\n",
            "8/8 [==============================] - 0s 6ms/step - loss: 0.5401 - accuracy: 0.0784 - precision: 0.2475 - recall: 0.3738\n",
            "Epoch 9/10\n",
            "8/8 [==============================] - 0s 5ms/step - loss: 0.4963 - accuracy: 0.0805 - precision: 0.1654 - recall: 0.1452\n",
            "Epoch 10/10\n",
            "8/8 [==============================] - 0s 5ms/step - loss: 0.4599 - accuracy: 0.0548 - precision: 0.0000e+00 - recall: 0.0000e+00\n"
          ],
          "name": "stdout"
        }
      ]
    },
    {
      "cell_type": "code",
      "metadata": {
        "colab": {
          "base_uri": "https://localhost:8080/"
        },
        "id": "spM-O40WTkyE",
        "outputId": "fa06b82d-2b67-45bb-9f4d-9426794c27c7"
      },
      "source": [
        "model.save('lstm_model.h1')"
      ],
      "execution_count": null,
      "outputs": [
        {
          "output_type": "stream",
          "text": [
            "WARNING:absl:Found untraced functions such as lstm_cell_layer_call_fn, lstm_cell_layer_call_and_return_conditional_losses, lstm_cell_layer_call_fn, lstm_cell_layer_call_and_return_conditional_losses, lstm_cell_layer_call_and_return_conditional_losses while saving (showing 5 of 5). These functions will not be directly callable after loading.\n",
            "WARNING:absl:Found untraced functions such as lstm_cell_layer_call_fn, lstm_cell_layer_call_and_return_conditional_losses, lstm_cell_layer_call_fn, lstm_cell_layer_call_and_return_conditional_losses, lstm_cell_layer_call_and_return_conditional_losses while saving (showing 5 of 5). These functions will not be directly callable after loading.\n"
          ],
          "name": "stderr"
        },
        {
          "output_type": "stream",
          "text": [
            "INFO:tensorflow:Assets written to: lstm_model.h1/assets\n"
          ],
          "name": "stdout"
        },
        {
          "output_type": "stream",
          "text": [
            "INFO:tensorflow:Assets written to: lstm_model.h1/assets\n"
          ],
          "name": "stderr"
        }
      ]
    },
    {
      "cell_type": "code",
      "metadata": {
        "id": "2y27vCmWTkyE"
      },
      "source": [
        "from keras.models import load_model\n",
        "model = load_model('lstm_model.h1')"
      ],
      "execution_count": null,
      "outputs": []
    },
    {
      "cell_type": "code",
      "metadata": {
        "id": "2XTRnkRmTkyF",
        "colab": {
          "base_uri": "https://localhost:8080/"
        },
        "outputId": "62dbeb58-c5e4-4417-a6c5-0ba4d9f9b0a6"
      },
      "source": [
        "import nltk\n",
        "import string\n",
        "import re\n",
        "\n",
        "input_str = input(\"Enter the string:\\n\")\n",
        "\n",
        "#to lower the cases\n",
        "#input_str=input_str.lower()\n",
        "\n",
        "#to remove numbers\n",
        "result=re.sub(r'\\d+', '', input_str)\n",
        "input_str=result\n",
        "\n",
        "#to remove punctuation\n",
        "translator = str.maketrans('', '', string.punctuation) \n",
        "input_str=input_str.translate(translator)\n",
        "\n",
        "#to remove white spaces\n",
        "\" \".join(input_str.split())\n",
        "print(input_str)\n",
        "input_str1=list(input_str.split(\" \"))\n",
        "print(input_str1)"
      ],
      "execution_count": null,
      "outputs": [
        {
          "output_type": "stream",
          "text": [
            "Enter the string:\n",
            "machine learning\n",
            "machine learning\n",
            "['machine', 'learning']\n"
          ],
          "name": "stdout"
        }
      ]
    },
    {
      "cell_type": "code",
      "metadata": {
        "id": "s-RIDhqPTkyF",
        "colab": {
          "base_uri": "https://localhost:8080/"
        },
        "outputId": "445db363-8744-452b-9c5e-783d3560cdd9"
      },
      "source": [
        "max_words_new=10\n",
        "t1=Tokenizer()\n",
        "t1.fit_on_texts(input_str1)\n",
        "input_sequences=t1.texts_to_sequences(input_str1)\n",
        "\n",
        "max_length=10\n",
        "input_pad=pad_sequences(\n",
        "    input_sequences,maxlen=max_length, padding=\"post\", truncating=\"post\"\n",
        "    )\n",
        "print(input_pad)"
      ],
      "execution_count": null,
      "outputs": [
        {
          "output_type": "stream",
          "text": [
            "[[1 0 0 0 0 0 0 0 0 0]\n",
            " [2 0 0 0 0 0 0 0 0 0]]\n"
          ],
          "name": "stdout"
        }
      ]
    },
    {
      "cell_type": "code",
      "metadata": {
        "id": "mZAU24DITkyG",
        "colab": {
          "base_uri": "https://localhost:8080/"
        },
        "outputId": "42b6346c-513a-4f89-b13e-a52addf819b1"
      },
      "source": [
        "y_predict=model.predict_proba(input_pad)\n",
        "print(y_predict)"
      ],
      "execution_count": null,
      "outputs": [
        {
          "output_type": "stream",
          "text": [
            "/usr/local/lib/python3.7/dist-packages/tensorflow/python/keras/engine/sequential.py:425: UserWarning: `model.predict_proba()` is deprecated and will be removed after 2021-01-01. Please use `model.predict()` instead.\n",
            "  warnings.warn('`model.predict_proba()` is deprecated and '\n"
          ],
          "name": "stderr"
        },
        {
          "output_type": "stream",
          "text": [
            "[[0.2527345  0.4679659  0.17750174 0.20253289 0.2482625  0.2849765\n",
            "  0.22555763 0.12449121 0.4857588  0.16977304]\n",
            " [0.25290853 0.4680747  0.17730752 0.20242375 0.24847674 0.2850938\n",
            "  0.22528455 0.12421757 0.48586568 0.16959918]]\n"
          ],
          "name": "stdout"
        }
      ]
    },
    {
      "cell_type": "code",
      "metadata": {
        "id": "NISc1G_FTkyG",
        "colab": {
          "base_uri": "https://localhost:8080/"
        },
        "outputId": "a5a8dd86-ad09-4fb7-9104-b9802fe0f151"
      },
      "source": [
        "import numpy as np\n",
        "labels=np.mean(y_predict,axis=0)\n",
        "print(labels)\n",
        "class_labels=[0,0,0,0,0,0,0,0,0,0]\n",
        "for i in range(0,len(labels)):\n",
        "    if labels[i]>=0.43:\n",
        "        class_labels[i]=1\n",
        "    else:\n",
        "        class_labels[i]=0\n",
        "print(class_labels)"
      ],
      "execution_count": null,
      "outputs": [
        {
          "output_type": "stream",
          "text": [
            "[0.2528215  0.46802032 0.17740463 0.20247832 0.24836962 0.28503516\n",
            " 0.22542109 0.12435439 0.48581225 0.16968611]\n",
            "[0, 1, 0, 0, 0, 0, 0, 0, 1, 0]\n"
          ],
          "name": "stdout"
        }
      ]
    },
    {
      "cell_type": "code",
      "metadata": {
        "id": "LEahSzclTkyH",
        "colab": {
          "base_uri": "https://localhost:8080/"
        },
        "outputId": "92eb808e-028a-4290-ffda-ddb4836990ec"
      },
      "source": [
        "import xlrd \n",
        "import operator\n",
        "loc = (\"/content/cluster_output.xlsx\") \n",
        "  \n",
        "wb = xlrd.open_workbook(loc) \n",
        "sheet = wb.sheet_by_index(0)\n",
        "\n",
        "def retrieve(n):\n",
        "  result=dict()\n",
        "  i=0\n",
        "  while i<len(input_str1):\n",
        "    for j in range(0,sheet.nrows):\n",
        "      if sheet.cell_value(j,n)==1:\n",
        "        s=sheet.cell_value(j,2)\n",
        "        arr1=s.split(' ')\n",
        "        for k in range(0,len(arr1)):\n",
        "          if(input_str1[i]==arr1[k]):\n",
        "            if(sheet.cell_value(j,1) in result.keys()):\n",
        "              result[sheet.cell_value(j,1)]+=1\n",
        "            else:\n",
        "              result[sheet.cell_value(j,1)]=1\n",
        "            break\n",
        "    i=i+1\n",
        "  print(result)\n",
        "  result=sorted(result.items(),key=operator.itemgetter(1),reverse=True)\n",
        "  print(\"The ranked document indices are:-\")\n",
        "  for item in result:\n",
        "    print(item[0])\n",
        "if class_labels[0]==1:\n",
        "    n=4\n",
        "    retrieve(n)\n",
        "elif class_labels[0]==1:\n",
        "    n=5\n",
        "    retrieve(n)\n",
        "else:\n",
        "    n=6\n",
        "    retrieve(n)"
      ],
      "execution_count": null,
      "outputs": [
        {
          "output_type": "stream",
          "text": [
            "{'d8': 1}\n",
            "The ranked document indices are:-\n",
            "d8\n"
          ],
          "name": "stdout"
        }
      ]
    },
    {
      "cell_type": "code",
      "metadata": {
        "id": "eUiIi--FTkyJ",
        "outputId": "c65de2a0-afbf-4685-9033-f42b28f94e88"
      },
      "source": [
        "print(history.history.keys())\n",
        "pyplot.plot(history.history['accuracy'])\n",
        "pyplot.show()\n",
        "pyplot.plot(history.history['precision'])\n",
        "pyplot.show()\n",
        "pyplot.plot(history.history['recall'])\n",
        "pyplot.show()"
      ],
      "execution_count": null,
      "outputs": [
        {
          "output_type": "stream",
          "text": [
            "dict_keys(['loss', 'accuracy', 'precision', 'recall'])\n"
          ],
          "name": "stdout"
        },
        {
          "output_type": "display_data",
          "data": {
            "image/png": "[encoded data removed]",
            "text/plain": [
              "<Figure size 432x288 with 1 Axes>"
            ]
          },
          "metadata": {
            "tags": [],
            "needs_background": "light"
          }
        },
        {
          "output_type": "display_data",
          "data": {
            "image/png": "[encoded data removed]",
            "text/plain": [
              "<Figure size 432x288 with 1 Axes>"
            ]
          },
          "metadata": {
            "tags": [],
            "needs_background": "light"
          }
        }
      ]
    }
  ]
}